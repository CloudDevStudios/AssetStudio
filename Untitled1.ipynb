{
  "nbformat": 4,
  "nbformat_minor": 0,
  "metadata": {
    "colab": {
      "provenance": [],
      "authorship_tag": "ABX9TyNIp/jpReec/lvBepIk36BE",
      "include_colab_link": true
    },
    "kernelspec": {
      "name": "python3",
      "display_name": "Python 3"
    },
    "language_info": {
      "name": "python"
    }
  },
  "cells": [
    {
      "cell_type": "markdown",
      "metadata": {
        "id": "view-in-github",
        "colab_type": "text"
      },
      "source": [
        "<a href=\"https://colab.research.google.com/github/CloudDevStudios/AssetStudio/blob/master/Untitled1.ipynb\" target=\"_parent\"><img src=\"https://colab.research.google.com/assets/colab-badge.svg\" alt=\"Open In Colab\"/></a>"
      ]
    },
    {
      "cell_type": "code",
      "execution_count": 2,
      "metadata": {
        "id": "BV2QLWysCIkC"
      },
      "outputs": [],
      "source": [
        "# Importieren der benötigten Bibliotheken\n",
        "import requests\n",
        "import json\n",
        "from google.colab import drive\n",
        "from google.colab import files"
      ]
    },
    {
      "cell_type": "code",
      "source": [
        "# Funktion zum Auswählen des Modellordners\n",
        "def select_model_folder():\n",
        "  # Mounten von Google Drive\n",
        "  drive.mount('/content/drive')\n",
        "  \n",
        "  # Auswählen des Modellordners\n",
        "  model_folder = input(\"Bitte geben Sie den Namen des Modellordners ein: \")\n",
        "  model_folder_path = \"/content/drive/My Drive/\" + model_folder\n",
        "  \n",
        "  # Überprüfen, ob der Ordner existiert\n",
        "  if not os.path.exists(model_folder_path):\n",
        "    print(\"Der angegebene Ordner existiert nicht.\")\n",
        "    return None\n",
        "  \n",
        "  # Auflisten der aktuellen Modelle im Ordner\n",
        "  print(\"Aktuelle Modelle im Ordner:\")\n",
        "  for model in os.listdir(model_folder_path):\n",
        "    print(model)\n",
        "  \n",
        "  return model_folder_path\n",
        "\n",
        "# Funktion zum Herunterladen des Modells\n",
        "def download_model(model_url, model_name, category):\n",
        "  # Auswählen des Modellordners\n",
        "  model_folder_path = select_model_folder()\n",
        "  if model_folder_path is None:\n",
        "    return\n",
        "  # Erstellen des Kategorieordners, falls er nicht existiert\n",
        "  category_folder_path = model_folder_path + \"/\" + category\n",
        "  if not os.path.ex\n",
        "\n",
        "  # Herunterladen des Modells\n",
        "  model_path = category_folder_path + \"/\" + model_name + \".h5\"\n",
        "  !wget -O \"$model_path\" \"$model_url\"\n",
        "  \n",
        "  # Bestätigen, dass das Modell heruntergeladen wurde\n",
        "  print(\"Das Modell wurde erfolgreich heruntergeladen und im Ordner \" + category + \" gespeichert.\")\n",
        "\n",
        "# API-Schlüssel von Civitai\n",
        "  api_key = \"your_api_key_here\"ists(category_folder_path):\n",
        "    os.makedirs(category_folder_path)"
      ],
      "metadata": {
        "colab": {
          "base_uri": "https://localhost:8080/",
          "height": 131
        },
        "id": "vNgyvd3jC2Gu",
        "outputId": "2b8ec8ff-2353-43e9-c57d-fd1673a19051"
      },
      "execution_count": 10,
      "outputs": [
        {
          "output_type": "error",
          "ename": "SyntaxError",
          "evalue": "ignored",
          "traceback": [
            "\u001b[0;36m  File \u001b[0;32m\"<ipython-input-10-905e4de60606>\"\u001b[0;36m, line \u001b[0;32m30\u001b[0m\n\u001b[0;31m    if not os.path.ex\u001b[0m\n\u001b[0m                     ^\u001b[0m\n\u001b[0;31mSyntaxError\u001b[0m\u001b[0;31m:\u001b[0m invalid syntax\n"
          ]
        }
      ]
    },
    {
      "cell_type": "code",
      "source": [],
      "metadata": {
        "id": "yt5-8W2jDNfx"
      },
      "execution_count": 8,
      "outputs": []
    },
    {
      "cell_type": "code",
      "source": [
        "# Funktion zur Suche nach einem Modell auf Civitai\n",
        "def search_civitai_models(query, api_key):\n",
        "  # URL der Civitai-Suche\n",
        "  url = \"https://civitai.com/api/v1/models?search=\" + query\n",
        "  \n",
        "  # Hinzufügen des API-Schlüssels zum Header\n",
        "  headers = {\n",
        "      \"Authorization\": \"Bearer \" + api_key\n",
        "  }\n",
        "  \n",
        "  # Senden der GET-Anfrage\n",
        "  response = requests.get(url, headers=headers)\n",
        "  \n",
        "  # Parsen der JSON-Antwort\n",
        "  results = json.loads(response.content)\n",
        "  \n",
        "  # Ausgeben der Suchergebnisse\n",
        "  for i, model in enumerate(results[\"models\"]):\n",
        "    print(str(i+1) + \". \" + model[\"name\"] + \" (\" + model[\"category\"] + \")\")\n",
        "  \n",
        "  # Auswählen des Modells\n",
        "  model_index = int(input(\"Bitte wählen Sie ein Modell: \")) - 1\n",
        "  selected_model = results[\"models\"][model_index]\n",
        "  \n",
        "  # Herunterladen des ausgewählten Modells\n",
        "  download_model(selected_model[\"url\"], selected_model[\"name\"], selected_model[\"category\"])\n",
        "\n",
        "# Beispielaufruf der Civitai-Suche\n",
        "search_civitai_models(\"image classification\", api_key)"
      ],
      "metadata": {
        "colab": {
          "base_uri": "https://localhost:8080/",
          "height": 131
        },
        "id": "URL1qCV2CocF",
        "outputId": "4bfda2b7-84af-4699-e878-f7e8f82b97ff"
      },
      "execution_count": 6,
      "outputs": [
        {
          "output_type": "error",
          "ename": "IndentationError",
          "evalue": "ignored",
          "traceback": [
            "\u001b[0;36m  File \u001b[0;32m\"<ipython-input-6-318a28639d30>\"\u001b[0;36m, line \u001b[0;32m14\u001b[0m\n\u001b[0;31m    url = \"https://civitai.com/api/v1/models?search=\" + query\u001b[0m\n\u001b[0m    ^\u001b[0m\n\u001b[0;31mIndentationError\u001b[0m\u001b[0;31m:\u001b[0m expected an indented block\n"
          ]
        }
      ]
    }
  ]
}